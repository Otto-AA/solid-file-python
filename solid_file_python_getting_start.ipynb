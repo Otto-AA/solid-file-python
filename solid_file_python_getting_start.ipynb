{
  "nbformat": 4,
  "nbformat_minor": 0,
  "metadata": {
    "colab": {
      "name": "solid-file-python-getting-start.ipynb",
      "provenance": [],
      "collapsed_sections": [
        "G9cxkAlJ2JQg",
        "ZT7ihHfG4MaF"
      ]
    },
    "kernelspec": {
      "name": "python3",
      "display_name": "Python 3"
    },
    "language_info": {
      "name": "python"
    }
  },
  "cells": [
    {
      "cell_type": "markdown",
      "metadata": {
        "id": "G9cxkAlJ2JQg"
      },
      "source": [
        "# About\n",
        "solid-file-python is a Python library for creating and managing files and folders in Solid pods. "
      ]
    },
    {
      "cell_type": "markdown",
      "metadata": {
        "id": "0dFnOUF73iJ4"
      },
      "source": [
        "# Start using"
      ]
    },
    {
      "cell_type": "markdown",
      "metadata": {
        "id": "ZT7ihHfG4MaF"
      },
      "source": [
        "## Preparation\n",
        "\n",
        "### Get a Pod\n",
        "You can get a free Pod either from [Solid Community](https://solidproject.org//users/get-a-pod) or [Inrupt](https://signup.pod.inrupt.com/).\n",
        "\n",
        "### Make sure your Pod is publicly accessible.\n",
        "`solid-file-python` has not yet support authentication. Currently, you can use it only on public Solid Pod/directory/resource. \n",
        "\n",
        "To make your Pod public accessible, go to your Pod administration console:\n",
        "\n",
        "#### Solid community\n",
        "1. Login admin console: https://[username].solidcommunity.net/\n",
        "2. Click the **lock** icon on the menu bar.\n",
        "3. Move and make sure **Everyone** (the globe icon) to/in the **Owners** section (as shown in the screenshot below.)\n",
        "![](https://user-images.githubusercontent.com/3183314/124853101-e6ea2780-dfd7-11eb-8263-e0d1dfffe719.png)\n",
        "\n",
        "### Inrupt \n",
        "1. Login admin console: https://podbrowser.inrupt.com/login\n",
        "2. Click the **FOLDER DETAILS** button on the menu bar.\n",
        "3. On the sidebar, expand the **Sharing** section.\n",
        "4. Click **EDIT EDITORS**.\n",
        "5. Add and make sure **Anyone** is listed in **Editors** section. (as shown in the screenshot below.)\n",
        "![](https://user-images.githubusercontent.com/3183314/124853945-45fc6c00-dfd9-11eb-9958-16e0f9d98a7f.png)"
      ]
    },
    {
      "cell_type": "markdown",
      "metadata": {
        "id": "puw5ID0EA5mx"
      },
      "source": [
        "## Install \n",
        "You can obtain solid-file from Python Package Index using the following identifier: `solid-file`, and install it as a usual Python package."
      ]
    },
    {
      "cell_type": "code",
      "metadata": {
        "colab": {
          "base_uri": "https://localhost:8080/"
        },
        "id": "apf2CcNFxyMX",
        "outputId": "e63face8-ffc6-4512-949e-880e77088cf2"
      },
      "source": [
        "!pip install solid-file==0.0.3\n"
      ],
      "execution_count": null,
      "outputs": [
        {
          "output_type": "stream",
          "text": [
            "Requirement already satisfied: solid-file==0.0.3 in /usr/local/lib/python3.7/dist-packages (0.0.3)\n",
            "Requirement already satisfied: rdflib==5.0.0 in /usr/local/lib/python3.7/dist-packages (from solid-file==0.0.3) (5.0.0)\n",
            "Requirement already satisfied: httpx==0.18.2 in /usr/local/lib/python3.7/dist-packages (from solid-file==0.0.3) (0.18.2)\n",
            "Requirement already satisfied: six in /usr/local/lib/python3.7/dist-packages (from rdflib==5.0.0->solid-file==0.0.3) (1.15.0)\n",
            "Requirement already satisfied: pyparsing in /usr/local/lib/python3.7/dist-packages (from rdflib==5.0.0->solid-file==0.0.3) (2.4.7)\n",
            "Requirement already satisfied: isodate in /usr/local/lib/python3.7/dist-packages (from rdflib==5.0.0->solid-file==0.0.3) (0.6.0)\n",
            "Requirement already satisfied: sniffio in /usr/local/lib/python3.7/dist-packages (from httpx==0.18.2->solid-file==0.0.3) (1.2.0)\n",
            "Requirement already satisfied: httpcore<0.14.0,>=0.13.3 in /usr/local/lib/python3.7/dist-packages (from httpx==0.18.2->solid-file==0.0.3) (0.13.6)\n",
            "Requirement already satisfied: rfc3986[idna2008]<2,>=1.3 in /usr/local/lib/python3.7/dist-packages (from httpx==0.18.2->solid-file==0.0.3) (1.5.0)\n",
            "Requirement already satisfied: certifi in /usr/local/lib/python3.7/dist-packages (from httpx==0.18.2->solid-file==0.0.3) (2021.5.30)\n",
            "Requirement already satisfied: anyio==3.* in /usr/local/lib/python3.7/dist-packages (from httpcore<0.14.0,>=0.13.3->httpx==0.18.2->solid-file==0.0.3) (3.2.1)\n",
            "Requirement already satisfied: h11<0.13,>=0.11 in /usr/local/lib/python3.7/dist-packages (from httpcore<0.14.0,>=0.13.3->httpx==0.18.2->solid-file==0.0.3) (0.12.0)\n",
            "Requirement already satisfied: idna; extra == \"idna2008\" in /usr/local/lib/python3.7/dist-packages (from rfc3986[idna2008]<2,>=1.3->httpx==0.18.2->solid-file==0.0.3) (2.10)\n",
            "Requirement already satisfied: typing-extensions; python_version < \"3.8\" in /usr/local/lib/python3.7/dist-packages (from anyio==3.*->httpcore<0.14.0,>=0.13.3->httpx==0.18.2->solid-file==0.0.3) (3.7.4.3)\n"
          ],
          "name": "stdout"
        }
      ]
    },
    {
      "cell_type": "markdown",
      "metadata": {
        "id": "swi8soBLBNyX"
      },
      "source": [
        "## Usage example\n",
        "We currently support basic folder and file CURD operations. Please check all available operations [here](https://github.com/twonote/solid-file-python/blob/master/src/solid/solid_api.py)."
      ]
    },
    {
      "cell_type": "markdown",
      "metadata": {
        "id": "g1HtBAEcC6-f"
      },
      "source": [
        "### Import and init"
      ]
    },
    {
      "cell_type": "code",
      "metadata": {
        "id": "LEDYxYUYC8Gp"
      },
      "source": [
        "from solid.solid_api import SolidAPI\n",
        "api = SolidAPI(None)"
      ],
      "execution_count": null,
      "outputs": []
    },
    {
      "cell_type": "markdown",
      "metadata": {
        "id": "qWe9gKFAPCRW"
      },
      "source": [
        "Configure for demostration:"
      ]
    },
    {
      "cell_type": "code",
      "metadata": {
        "id": "lfStjLjrPJfO"
      },
      "source": [
        "POD_ENDPOINT = 'https://pod.inrupt.com/petertc/' # Pod to demostrate. Replace it with yours.\n",
        "\n",
        "folder_name = 'testfolder' \n",
        "subfolder_name = 'subfolder'\n",
        "file_name = 'test.md'"
      ],
      "execution_count": null,
      "outputs": []
    },
    {
      "cell_type": "markdown",
      "metadata": {
        "id": "0AvsH25TOu3t"
      },
      "source": [
        "Init vars for demostration:"
      ]
    },
    {
      "cell_type": "code",
      "metadata": {
        "colab": {
          "base_uri": "https://localhost:8080/"
        },
        "id": "b-V77_UZOswN",
        "outputId": "12c47796-ceeb-466d-c29d-00833786f8b3"
      },
      "source": [
        "import uuid\n",
        "import io\n",
        "\n",
        "body = '#hello Solid!'\n",
        "f = io.BytesIO(body.encode('UTF-8'))\n",
        "\n",
        "def gen_random_str() -> str:\n",
        "    return uuid.uuid4().hex\n",
        "\n",
        "base_url = POD_ENDPOINT + 'playground-' + gen_random_str() + '/'\n",
        "folder_url = base_url + folder_name + '/'\n",
        "subfolder_url = folder_url + subfolder_name + '/'\n",
        "file_url = folder_url + file_name\n",
        "\n",
        "print(f'base_url:{base_url}')\n",
        "print(f'folder_url:{folder_url}')\n",
        "print(f'subfolder_url:{subfolder_url}')\n",
        "print(f'file_url:{file_url}')"
      ],
      "execution_count": null,
      "outputs": [
        {
          "output_type": "stream",
          "text": [
            "base_url:https://pod.inrupt.com/petertc/playground-36c59a28b0dc444fbd8ec03bd844bb03/\n",
            "folder_url:https://pod.inrupt.com/petertc/playground-36c59a28b0dc444fbd8ec03bd844bb03/testfolder/\n",
            "subfolder_url:https://pod.inrupt.com/petertc/playground-36c59a28b0dc444fbd8ec03bd844bb03/testfolder/subfolder/\n",
            "file_url:https://pod.inrupt.com/petertc/playground-36c59a28b0dc444fbd8ec03bd844bb03/testfolder/test.md\n"
          ],
          "name": "stdout"
        }
      ]
    },
    {
      "cell_type": "markdown",
      "metadata": {
        "id": "BqBFVO2NDpeS"
      },
      "source": [
        "### Check item exists"
      ]
    },
    {
      "cell_type": "code",
      "metadata": {
        "colab": {
          "base_uri": "https://localhost:8080/"
        },
        "id": "bNJ3v4dTDsLF",
        "outputId": "718719a0-6591-4bf2-eb5a-549ca548db24"
      },
      "source": [
        "api.item_exists(folder_url)"
      ],
      "execution_count": null,
      "outputs": [
        {
          "output_type": "execute_result",
          "data": {
            "text/plain": [
              "False"
            ]
          },
          "metadata": {
            "tags": []
          },
          "execution_count": 47
        }
      ]
    },
    {
      "cell_type": "markdown",
      "metadata": {
        "id": "PNz06C9fKpGl"
      },
      "source": [
        "### Create folder"
      ]
    },
    {
      "cell_type": "code",
      "metadata": {
        "colab": {
          "base_uri": "https://localhost:8080/"
        },
        "id": "scmzQGJhKrRU",
        "outputId": "2ae7e618-7a92-4360-8e75-cb7a2de423ac"
      },
      "source": [
        "api.create_folder(folder_url)\n",
        "api.item_exists(folder_url)"
      ],
      "execution_count": null,
      "outputs": [
        {
          "output_type": "execute_result",
          "data": {
            "text/plain": [
              "True"
            ]
          },
          "metadata": {
            "tags": []
          },
          "execution_count": 48
        }
      ]
    },
    {
      "cell_type": "markdown",
      "metadata": {
        "id": "Pagkk7PZK9-E"
      },
      "source": [
        "### List items in the folder\n",
        "`SolidAPI.read_folder()` returns a `FolderData` instance in which you can get information about the folder, includes name, URL, parent folder, and items in the folder. "
      ]
    },
    {
      "cell_type": "code",
      "metadata": {
        "colab": {
          "base_uri": "https://localhost:8080/"
        },
        "id": "CCNM_1IfLCvx",
        "outputId": "bb27a925-f9da-467d-d5a0-e23986622262"
      },
      "source": [
        "empty_folder = api.read_folder(folder_url)\n",
        "\n",
        "print(f'Folder name: {empty_folder.name}')\n",
        "print(f'Folder url: {empty_folder.url}')\n",
        "print(f'Parent: {empty_folder.parent}')\n",
        "print(f'Subfolders in the folder: {empty_folder.folders}')\n",
        "print(f'Files in the folder: {empty_folder.files}')\n"
      ],
      "execution_count": null,
      "outputs": [
        {
          "output_type": "stream",
          "text": [
            "Folder name: testfolder\n",
            "Folder url: https://pod.inrupt.com/petertc/playground-36c59a28b0dc444fbd8ec03bd844bb03/testfolder/\n",
            "Parent: https://pod.inrupt.com/petertc/playground-36c59a28b0dc444fbd8ec03bd844bb03/\n",
            "Subfolders in the folder: []\n",
            "Files in the folder: []\n"
          ],
          "name": "stdout"
        }
      ]
    },
    {
      "cell_type": "markdown",
      "metadata": {
        "id": "2epJ7iDEMJSz"
      },
      "source": [
        "### Add a subfolder to the folder\n",
        "We can see the subfolder while listing the folder after the subfolder is created. "
      ]
    },
    {
      "cell_type": "code",
      "metadata": {
        "colab": {
          "base_uri": "https://localhost:8080/"
        },
        "id": "LPL0viCEMOzz",
        "outputId": "d2f05404-7304-4a35-e0b2-28fefb341390"
      },
      "source": [
        "api.create_folder(subfolder_url)\n",
        "folder_data = api.read_folder(folder_url)\n",
        "print(f'Subfolders in the folder: {list(map(lambda x: x.name, folder_data.folders))}')\n"
      ],
      "execution_count": null,
      "outputs": [
        {
          "output_type": "stream",
          "text": [
            "Subfolders in the folder: ['subfolder']\n"
          ],
          "name": "stdout"
        }
      ]
    },
    {
      "cell_type": "markdown",
      "metadata": {
        "id": "6ieXDwalOcCw"
      },
      "source": [
        "### Add a file to the folder\n",
        "We can see the file while listing the folder after the file is uploaded. "
      ]
    },
    {
      "cell_type": "code",
      "metadata": {
        "colab": {
          "base_uri": "https://localhost:8080/"
        },
        "id": "480U7B_xOend",
        "outputId": "f21ec4e7-b2e2-430b-d0c2-4ecb140adae4"
      },
      "source": [
        "api.put_file(file_url, f, 'text/markdown')\n",
        "folder_data = api.read_folder(folder_url)\n",
        "print(f'Files in the folder: {list(map(lambda x: x.name, folder_data.files))}')"
      ],
      "execution_count": null,
      "outputs": [
        {
          "output_type": "stream",
          "text": [
            "Files in the folder: ['test.md']\n"
          ],
          "name": "stdout"
        }
      ]
    },
    {
      "cell_type": "markdown",
      "metadata": {
        "id": "s6k3ErYDP8un"
      },
      "source": [
        "### Get the file from Pod\n",
        "Download the file we just upload and print its content."
      ]
    },
    {
      "cell_type": "code",
      "metadata": {
        "colab": {
          "base_uri": "https://localhost:8080/"
        },
        "id": "uzJgmVQ_QAwL",
        "outputId": "e536e554-b0ed-4ff1-a8e9-a4fd0d1c905c"
      },
      "source": [
        "resp = api.get(file_url)\n",
        "print(resp.text)"
      ],
      "execution_count": null,
      "outputs": [
        {
          "output_type": "stream",
          "text": [
            "#hello Solid!\n"
          ],
          "name": "stdout"
        }
      ]
    },
    {
      "cell_type": "markdown",
      "metadata": {
        "id": "7uiGZ9n5QJlF"
      },
      "source": [
        "### Delete files and folders in the Pod\n",
        "Items will not exist after deletion."
      ]
    },
    {
      "cell_type": "code",
      "metadata": {
        "colab": {
          "base_uri": "https://localhost:8080/"
        },
        "id": "rfTzOdtfQMye",
        "outputId": "e937a25e-3444-40a6-bcb5-87e3951536ac"
      },
      "source": [
        "from httpx import HTTPStatusError\n",
        "\n",
        "try:\n",
        "  api.delete(file_url)\n",
        "except HTTPStatusError as e:\n",
        "    if e.response.status_code != 404:\n",
        "        raise e\n",
        "\n",
        "try:\n",
        "  api.delete(subfolder_url)\n",
        "except HTTPStatusError as e:\n",
        "    if e.response.status_code != 404:\n",
        "        raise e\n",
        "\n",
        "try:\n",
        "  api.delete(folder_url)\n",
        "except HTTPStatusError as e:\n",
        "    if e.response.status_code != 404:\n",
        "        raise e\n",
        "\n",
        "print(api.item_exists(file_url))\n",
        "print(api.item_exists(file_url))\n",
        "print(api.item_exists(file_url))"
      ],
      "execution_count": null,
      "outputs": [
        {
          "output_type": "stream",
          "text": [
            "False\n",
            "False\n",
            "False\n"
          ],
          "name": "stdout"
        }
      ]
    }
  ]
}